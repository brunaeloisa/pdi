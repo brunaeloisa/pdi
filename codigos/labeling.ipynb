{
  "cells": [
    {
      "cell_type": "markdown",
      "source": [
        "*OBS: É importante que as células sejam executadas em ordem (Ctrl + F9 para executar tudo).*"
      ],
      "metadata": {
        "id": "fNYVEfc-Op_L"
      }
    },
    {
      "cell_type": "code",
      "source": [
        "!wget -O 'bolhas.png' 'https://github.com/brunaeloisa/brunaeloisa.github.io/blob/main/imagens/bolhas.png?raw=true'\n",
        "!wget -O 'bolhas_modif.png' 'https://github.com/brunaeloisa/brunaeloisa.github.io/blob/main/imagens/bolhas_modif.png?raw=true'"
      ],
      "metadata": {
        "id": "79FzoqEn_h1m"
      },
      "execution_count": null,
      "outputs": []
    },
    {
      "cell_type": "code",
      "execution_count": null,
      "metadata": {
        "id": "qi2919HTir_H"
      },
      "outputs": [],
      "source": [
        "import cv2\n",
        "from google.colab.patches import cv2_imshow\n",
        "import numpy as np"
      ]
    },
    {
      "cell_type": "code",
      "execution_count": null,
      "metadata": {
        "colab": {
          "base_uri": "https://localhost:8080/",
          "height": 273
        },
        "id": "zUGssy8WisOI",
        "outputId": "c86908c9-e73a-4706-dc8f-46b703ec724e"
      },
      "outputs": [
        {
          "output_type": "display_data",
          "data": {
            "text/plain": [
              "<PIL.Image.Image image mode=L size=256x256 at 0x7F84AA6FE510>"
            ],
            "image/png": "[encoded data removed]"
          },
          "metadata": {}
        }
      ],
      "source": [
        "arquivo = 'bolhas_modif.png'\n",
        "img = cv2.imread(arquivo, cv2.IMREAD_GRAYSCALE)\n",
        "cv2_imshow(img)\n",
        "\n",
        "altura, largura = img.shape"
      ]
    },
    {
      "cell_type": "code",
      "execution_count": null,
      "metadata": {
        "colab": {
          "base_uri": "https://localhost:8080/",
          "height": 291
        },
        "id": "BaSZVEWCk56H",
        "outputId": "f828d384-bffc-48a2-a8aa-b3a91a83b3ec"
      },
      "outputs": [
        {
          "output_type": "stream",
          "name": "stdout",
          "text": [
            "Foram retiradas 11 bolhas que tocavam a borda.\n"
          ]
        },
        {
          "output_type": "display_data",
          "data": {
            "text/plain": [
              "<PIL.Image.Image image mode=L size=256x256 at 0x7F84AA74DF90>"
            ],
            "image/png": "[encoded data removed]"
          },
          "metadata": {}
        }
      ],
      "source": [
        "img_aux = img.copy()\n",
        "num_bolhas_borda = 0\n",
        "\n",
        "# Eliminando bolhas que tocam as bordas, transformando-as em plano de fundo\n",
        "for i in range(altura):\n",
        "    if img_aux[i,0] == 255:\n",
        "        cv2.floodFill(img_aux, None, (0,i), 0)\n",
        "        num_bolhas_borda += 1\n",
        "    if img_aux[i,largura-1] == 255:\n",
        "        cv2.floodFill(img_aux, None, (largura-1,i), 0)\n",
        "        num_bolhas_borda += 1\n",
        "\n",
        "for j in range(largura):\n",
        "    if img_aux[0,j] == 255:\n",
        "        cv2.floodFill(img_aux, None, (j,0), 0)\n",
        "        num_bolhas_borda += 1\n",
        "    if img_aux[altura-1,j] == 255:\n",
        "        cv2.floodFill(img_aux, None, (j,altura-1), 0)\n",
        "        num_bolhas_borda += 1\n",
        "\n",
        "print(f'Foram retiradas {num_bolhas_borda} bolhas que tocavam a borda.')\n",
        "cv2_imshow(img_aux)"
      ]
    },
    {
      "cell_type": "code",
      "execution_count": null,
      "metadata": {
        "colab": {
          "base_uri": "https://localhost:8080/",
          "height": 291
        },
        "id": "aU9iJyVKyvQC",
        "outputId": "58e78709-afeb-41d4-9986-f21a4c3dc008"
      },
      "outputs": [
        {
          "output_type": "stream",
          "name": "stdout",
          "text": [
            "A figura tem 21 bolhas.\n"
          ]
        },
        {
          "output_type": "display_data",
          "data": {
            "text/plain": [
              "<PIL.Image.Image image mode=L size=256x256 at 0x7F84AA7A6710>"
            ],
            "image/png": "[encoded data removed]"
          },
          "metadata": {}
        }
      ],
      "source": [
        "num_bolhas = 0\n",
        "\n",
        "for i in range(altura):\n",
        "    for j in range(largura):\n",
        "      if img_aux[i,j] == 255:\n",
        "        num_bolhas += 1\n",
        "        cv2.floodFill(img_aux, None, (j,i), num_bolhas)\n",
        "\n",
        "print('A figura tem {} bolhas.'.format(num_bolhas))\n",
        "cv2_imshow(img_aux)"
      ]
    },
    {
      "cell_type": "code",
      "execution_count": null,
      "metadata": {
        "colab": {
          "base_uri": "https://localhost:8080/",
          "height": 273
        },
        "id": "P4K2WOfCvU20",
        "outputId": "037d9488-9012-467e-f615-178dbdeeb272"
      },
      "outputs": [
        {
          "output_type": "display_data",
          "data": {
            "text/plain": [
              "<PIL.Image.Image image mode=L size=256x256 at 0x7F84AA73D1D0>"
            ],
            "image/png": "[encoded data removed]"
          },
          "metadata": {}
        }
      ],
      "source": [
        "# altera a cor do fundo\n",
        "cv2.floodFill(img_aux, None, (0,0), 255)\n",
        "cv2_imshow(img_aux)"
      ]
    },
    {
      "cell_type": "code",
      "source": [
        "num_bolhas_buracos = 0\n",
        "\n",
        "for i in range(1, altura):\n",
        "    for j in range(1, largura):\n",
        "      if img_aux[i,j] == 0:\n",
        "        cv2.floodFill(img_aux, None, (j,i), 255)\n",
        "        if img_aux[i,j-1] != 220:\n",
        "          cv2.floodFill(img_aux, None, (j-1,i), 220)\n",
        "          num_bolhas_buracos += 1\n",
        "\n",
        "cv2_imshow(img_aux)\n",
        "print(f'A figura tem {num_bolhas_buracos} bolhas com buracos e {num_bolhas - num_bolhas_buracos} bolhas sem buracos.')"
      ],
      "metadata": {
        "colab": {
          "base_uri": "https://localhost:8080/",
          "height": 291
        },
        "id": "_p-Nok8DQdL6",
        "outputId": "c6eecefa-6043-4c4b-f0d1-fe911e634be4"
      },
      "execution_count": null,
      "outputs": [
        {
          "output_type": "display_data",
          "data": {
            "text/plain": [
              "<PIL.Image.Image image mode=L size=256x256 at 0x7F84AA755F50>"
            ],
            "image/png": "[encoded data removed]"
          },
          "metadata": {}
        },
        {
          "output_type": "stream",
          "name": "stdout",
          "text": [
            "A figura tem 7 bolhas com buracos e 14 bolhas sem buracos.\n"
          ]
        }
      ]
    }
  ],
  "metadata": {
    "colab": {
      "provenance": []
    },
    "kernelspec": {
      "display_name": "Python 3",
      "name": "python3"
    },
    "language_info": {
      "name": "python"
    }
  },
  "nbformat": 4,
  "nbformat_minor": 0
}